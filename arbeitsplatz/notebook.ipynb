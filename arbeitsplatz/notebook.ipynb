{
 "cells": [
  {
   "cell_type": "code",
   "execution_count": 1,
   "metadata": {},
   "outputs": [],
   "source": [
    "import pandas as pd\n",
    "from datetime import datetime, timedelta"
   ]
  },
  {
   "cell_type": "code",
   "execution_count": 44,
   "metadata": {},
   "outputs": [
    {
     "data": {
      "text/html": [
       "<div>\n",
       "<style scoped>\n",
       "    .dataframe tbody tr th:only-of-type {\n",
       "        vertical-align: middle;\n",
       "    }\n",
       "\n",
       "    .dataframe tbody tr th {\n",
       "        vertical-align: top;\n",
       "    }\n",
       "\n",
       "    .dataframe thead th {\n",
       "        text-align: right;\n",
       "    }\n",
       "</style>\n",
       "<table border=\"1\" class=\"dataframe\">\n",
       "  <thead>\n",
       "    <tr style=\"text-align: right;\">\n",
       "      <th>platz</th>\n",
       "      <th>1</th>\n",
       "      <th>2</th>\n",
       "      <th>3</th>\n",
       "      <th>4</th>\n",
       "      <th>5</th>\n",
       "      <th>6</th>\n",
       "      <th>7</th>\n",
       "      <th>8</th>\n",
       "    </tr>\n",
       "    <tr>\n",
       "      <th>datum</th>\n",
       "      <th></th>\n",
       "      <th></th>\n",
       "      <th></th>\n",
       "      <th></th>\n",
       "      <th></th>\n",
       "      <th></th>\n",
       "      <th></th>\n",
       "      <th></th>\n",
       "    </tr>\n",
       "  </thead>\n",
       "  <tbody>\n",
       "    <tr>\n",
       "      <th>2024-02-02</th>\n",
       "      <td>AW</td>\n",
       "      <td>BR</td>\n",
       "      <td>NaN</td>\n",
       "      <td>NaN</td>\n",
       "      <td>NaN</td>\n",
       "      <td>NaN</td>\n",
       "      <td>NaN</td>\n",
       "      <td>NaN</td>\n",
       "    </tr>\n",
       "    <tr>\n",
       "      <th>2024-02-05</th>\n",
       "      <td>NaN</td>\n",
       "      <td>BR</td>\n",
       "      <td>NaN</td>\n",
       "      <td>NaN</td>\n",
       "      <td>NaN</td>\n",
       "      <td>NaN</td>\n",
       "      <td>NaN</td>\n",
       "      <td>NaN</td>\n",
       "    </tr>\n",
       "    <tr>\n",
       "      <th>2024-02-06</th>\n",
       "      <td>NaN</td>\n",
       "      <td>NaN</td>\n",
       "      <td>NaN</td>\n",
       "      <td>NaN</td>\n",
       "      <td>NaN</td>\n",
       "      <td>NaN</td>\n",
       "      <td>IWS</td>\n",
       "      <td>NaN</td>\n",
       "    </tr>\n",
       "    <tr>\n",
       "      <th>2024-02-07</th>\n",
       "      <td>NaN</td>\n",
       "      <td>NaN</td>\n",
       "      <td>NaN</td>\n",
       "      <td>NaN</td>\n",
       "      <td>NaN</td>\n",
       "      <td>NaN</td>\n",
       "      <td>NaN</td>\n",
       "      <td>NaN</td>\n",
       "    </tr>\n",
       "    <tr>\n",
       "      <th>2024-02-08</th>\n",
       "      <td>NaN</td>\n",
       "      <td>NaN</td>\n",
       "      <td>NaN</td>\n",
       "      <td>NaN</td>\n",
       "      <td>NaN</td>\n",
       "      <td>NaN</td>\n",
       "      <td>NaN</td>\n",
       "      <td>NaN</td>\n",
       "    </tr>\n",
       "  </tbody>\n",
       "</table>\n",
       "</div>"
      ],
      "text/plain": [
       "platz         1    2    3    4    5    6    7    8\n",
       "datum                                             \n",
       "2024-02-02   AW   BR  NaN  NaN  NaN  NaN  NaN  NaN\n",
       "2024-02-05  NaN   BR  NaN  NaN  NaN  NaN  NaN  NaN\n",
       "2024-02-06  NaN  NaN  NaN  NaN  NaN  NaN  IWS  NaN\n",
       "2024-02-07  NaN  NaN  NaN  NaN  NaN  NaN  NaN  NaN\n",
       "2024-02-08  NaN  NaN  NaN  NaN  NaN  NaN  NaN  NaN"
      ]
     },
     "execution_count": 44,
     "metadata": {},
     "output_type": "execute_result"
    }
   ],
   "source": [
    "def daten_laden() -> pd.DataFrame:\n",
    "    df = pd.read_csv(\"buchungen.csv\")\n",
    "    df.datum = pd.to_datetime(df.datum)\n",
    "    df = df.pivot(index='datum', columns='platz', values='name')\n",
    "    return df\n",
    "\n",
    "def build_woche(df) -> pd.DataFrame:\n",
    "    # Erstellen des Datumsindex\n",
    "    date_index = pd.date_range(datetime.datetime.now().date(), periods=5, freq='B')\n",
    "    # Erstellen des leeren Wochen-DataFrames\n",
    "    aktuelle_woche = pd.DataFrame(columns=range(1, 9), index=date_index)\n",
    "    aktuelle_woche.index.names = ['datum']\n",
    "    aktuelle_woche.columns.names = ['platz']\n",
    "    return aktuelle_woche.combine_first(df)\n",
    "\n",
    "\n",
    "df = daten_laden()\n",
    "build_woche(df)\n"
   ]
  },
  {
   "cell_type": "code",
   "execution_count": 15,
   "metadata": {},
   "outputs": [
    {
     "data": {
      "text/html": [
       "<div>\n",
       "<style scoped>\n",
       "    .dataframe tbody tr th:only-of-type {\n",
       "        vertical-align: middle;\n",
       "    }\n",
       "\n",
       "    .dataframe tbody tr th {\n",
       "        vertical-align: top;\n",
       "    }\n",
       "\n",
       "    .dataframe thead th {\n",
       "        text-align: right;\n",
       "    }\n",
       "</style>\n",
       "<table border=\"1\" class=\"dataframe\">\n",
       "  <thead>\n",
       "    <tr style=\"text-align: right;\">\n",
       "      <th></th>\n",
       "      <th>datum</th>\n",
       "      <th>platz</th>\n",
       "      <th>name</th>\n",
       "    </tr>\n",
       "  </thead>\n",
       "  <tbody>\n",
       "    <tr>\n",
       "      <th>0</th>\n",
       "      <td>2024-02-02</td>\n",
       "      <td>2</td>\n",
       "      <td>BR</td>\n",
       "    </tr>\n",
       "    <tr>\n",
       "      <th>1</th>\n",
       "      <td>2024-02-05</td>\n",
       "      <td>2</td>\n",
       "      <td>BR</td>\n",
       "    </tr>\n",
       "    <tr>\n",
       "      <th>2</th>\n",
       "      <td>2024-02-06</td>\n",
       "      <td>2</td>\n",
       "      <td>NaN</td>\n",
       "    </tr>\n",
       "  </tbody>\n",
       "</table>\n",
       "</div>"
      ],
      "text/plain": [
       "       datum platz name\n",
       "0 2024-02-02     2   BR\n",
       "1 2024-02-05     2   BR\n",
       "2 2024-02-06     2  NaN"
      ]
     },
     "execution_count": 15,
     "metadata": {},
     "output_type": "execute_result"
    }
   ],
   "source": [
    "# pivot umkehren\n",
    "pivot.reset_index().melt(id_vars='datum', value_vars=pivot.columns[1:], var_name='platz', value_name='name')"
   ]
  },
  {
   "cell_type": "code",
   "execution_count": null,
   "metadata": {},
   "outputs": [],
   "source": []
  },
  {
   "cell_type": "code",
   "execution_count": null,
   "metadata": {},
   "outputs": [],
   "source": [
    "# montag und freitag der laufenden woche bestimmen\n",
    "\n",
    "heute = datetime.date.today()\n",
    "wochentag_heute = heute.weekday()  # Montag ist 0, Dienstag ist 1, ..., Sonntag ist 6\n",
    "\n",
    "# Berechnung des letzten Montags\n",
    "tage_bis_montag = datetime.timedelta(days=wochentag_heute)\n",
    "letzter_montag = heute - tage_bis_montag\n",
    "\n",
    "# Berechnung des nächsten Freitags\n",
    "tage_bis_freitag = datetime.timedelta(days=(4 - wochentag_heute))\n",
    "naechster_freitag = heute + tage_bis_freitag\n",
    "return (letzter_montag, naechster_freitag)"
   ]
  },
  {
   "cell_type": "code",
   "execution_count": 5,
   "metadata": {},
   "outputs": [
    {
     "name": "stdout",
     "output_type": "stream",
     "text": [
      "[(datetime.datetime(2024, 1, 22, 17, 14, 27, 401610), datetime.datetime(2024, 1, 26, 17, 14, 27, 401610)), (datetime.datetime(2024, 1, 29, 17, 14, 27, 401610), datetime.datetime(2024, 2, 2, 17, 14, 27, 401610)), (datetime.datetime(2024, 2, 5, 17, 14, 27, 401610), datetime.datetime(2024, 2, 9, 17, 14, 27, 401610)), (datetime.datetime(2024, 2, 12, 17, 14, 27, 401610), datetime.datetime(2024, 2, 16, 17, 14, 27, 401610))]\n"
     ]
    }
   ],
   "source": [
    "def get_mondays_and_fridays():\n",
    "    today = datetime.today()\n",
    "    start_day = today - timedelta(days=today.weekday()) - timedelta(weeks=1)  # Montag der Woche vor der letzten Woche\n",
    "    end_day = start_day + timedelta(weeks=4)  # Drei Wochen ab jetzt\n",
    "\n",
    "    mondays_and_fridays = []\n",
    "\n",
    "    while start_day < end_day:\n",
    "        if start_day.weekday() in [0, 4]:  # 0 steht für Montag und 4 steht für Freitag\n",
    "            mondays_and_fridays.append(start_day)\n",
    "        start_day += timedelta(days=1)\n",
    "\n",
    "    return list(zip(mondays_and_fridays[::2], mondays_and_fridays[1::2]))  # Paare von Montagen und Freitagen\n",
    "\n",
    "print(get_mondays_and_fridays())"
   ]
  },
  {
   "cell_type": "code",
   "execution_count": 4,
   "metadata": {},
   "outputs": [],
   "source": [
    "# make a list of strings 1 to 9 \n",
    "plätze = [str(i) for i in range(1, 9)]"
   ]
  },
  {
   "cell_type": "code",
   "execution_count": null,
   "metadata": {},
   "outputs": [],
   "source": [
    "from streamlit import runtime\n",
    "from streamlit.runtime.scriptrunner import get_script_run_ctx\n",
    "\n",
    "def get_remote_ip() -> str:\n",
    "    \"\"\"Get remote ip.\"\"\"\n",
    "    try:\n",
    "        ctx = get_script_run_ctx()\n",
    "        if ctx is None:\n",
    "            return None\n",
    "        session_info = runtime.get_instance().get_client(ctx.session_id)\n",
    "        if session_info is None:\n",
    "            return None\n",
    "    except Exception as e:\n",
    "        return None\n",
    "    return session_info.request.remote_ip\n",
    "\n",
    "import streamlit as st\n",
    "\n",
    "st.title(\"Title\")\n",
    "st.markdown(f\"The remote ip is {get_remote_ip()}\")\n"
   ]
  }
 ],
 "metadata": {
  "kernelspec": {
   "display_name": "Python 3",
   "language": "python",
   "name": "python3"
  },
  "language_info": {
   "codemirror_mode": {
    "name": "ipython",
    "version": 3
   },
   "file_extension": ".py",
   "mimetype": "text/x-python",
   "name": "python",
   "nbconvert_exporter": "python",
   "pygments_lexer": "ipython3",
   "version": "3.10.13"
  }
 },
 "nbformat": 4,
 "nbformat_minor": 2
}
